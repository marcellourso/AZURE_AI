{
 "cells": [
  {
   "cell_type": "code",
   "execution_count": null,
   "metadata": {},
   "outputs": [],
   "source": [
    "import pandas\n",
    "\n",
    "# Read the text file containing data using pandas\n",
    "dataset = pandas.read_csv('doggy-boot-harness.csv')\n",
    "\n",
    "# Print the data\n",
    "# Because there are a lot of data, use head() to only print the first few rows\n",
    "dataset.head()"
   ]
  },
  {
   "cell_type": "code",
   "execution_count": null,
   "metadata": {},
   "outputs": [],
   "source": [
    "# Look at the harness sizes\n",
    "print(\"Harness sizes\")\n",
    "print(dataset.harness_size)\n",
    "\n",
    "# Remove the sex and age-in-years columns.\n",
    "del dataset[\"sex\"]\n",
    "del dataset[\"age_years\"]\n",
    "\n",
    "# Print the column names\n",
    "print(\"\\nAvailable columns after deleting sex and age information:\")\n",
    "print(dataset.columns.values)"
   ]
  },
  {
   "cell_type": "code",
   "execution_count": null,
   "metadata": {},
   "outputs": [],
   "source": [
    "# Print the data at the top of the table\n",
    "print(\"TOP OF TABLE\")\n",
    "print(dataset.head())\n",
    "\n",
    "# print the data at the bottom of the table\n",
    "print(\"\\nBOTTOM OF TABLE\")\n",
    "print(dataset.tail())"
   ]
  },
  {
   "cell_type": "code",
   "execution_count": null,
   "metadata": {},
   "outputs": [],
   "source": [
    "# Print how many rows of data we have\n",
    "print(f\"We have {len(dataset)} rows of data\")\n",
    "\n",
    "# Determine whether each avalanche dog's harness size is < 55\n",
    "# This creates a True or False value for each row where True means \n",
    "# they are smaller than 55\n",
    "is_small = dataset.harness_size < 55\n",
    "print(\"\\nWhether the dog's harness was smaller than size 55:\")\n",
    "print(is_small)\n",
    "\n",
    "# Now apply this 'mask' to our data to keep the smaller dogs\n",
    "data_from_small_dogs = dataset[is_small]\n",
    "print(\"\\nData for dogs with harness smaller than size 55:\")\n",
    "print(data_from_small_dogs)\n",
    "\n",
    "# Print the number of small dogs\n",
    "print(f\"\\nNumber of dogs with harness size less than 55: {len(data_from_small_dogs)}\")"
   ]
  },
  {
   "cell_type": "code",
   "execution_count": null,
   "metadata": {},
   "outputs": [],
   "source": [
    "# Make a copy of the dataset that only contains dogs with \n",
    "# a boot size below size 40\n",
    "# The call to copy() is optional but can help avoid unexpected\n",
    "# behaviour in more complex scenarios\n",
    "data_smaller_paws = dataset[dataset.boot_size < 40].copy()\n",
    "\n",
    "\n",
    "# Print information about this\n",
    "print(f\"We now have {len(data_smaller_paws)} rows in our dataset. The last few rows are:\")\n",
    "data_smaller_paws.tail()"
   ]
  },
  {
   "cell_type": "code",
   "execution_count": null,
   "metadata": {},
   "outputs": [],
   "source": [
    "# Load and prepare matplotlib to use for plotting graphs\n",
    "import matplotlib.pyplot as plt\n",
    "\n",
    "\n",
    "# Show a graph of harness size by boot size:\n",
    "plt.scatter(data_smaller_paws[\"harness_size\"], data_smaller_paws[\"boot_size\"])\n",
    "\n",
    "# add labels\n",
    "plt.xlabel(\"harness_size\")\n",
    "plt.ylabel(\"boot_size\")"
   ]
  },
  {
   "cell_type": "code",
   "execution_count": null,
   "metadata": {},
   "outputs": [],
   "source": [
    "# Convert harness sizes from metric to imperial units \n",
    "# and save the result to a new column\n",
    "data_smaller_paws['harness_size_imperial'] = data_smaller_paws.harness_size / 2.54\n",
    "\n",
    "# Show a graph of harness size in imperial units\n",
    "plt.scatter(data_smaller_paws[\"harness_size_imperial\"], data_smaller_paws[\"boot_size\"])\n",
    "plt.xlabel(\"harness_size_imperial\")\n",
    "plt.ylabel(\"boot_size\")"
   ]
  }
 ],
 "metadata": {
  "kernelspec": {
   "display_name": ".azureai_env",
   "language": "python",
   "name": "python3"
  },
  "language_info": {
   "codemirror_mode": {
    "name": "ipython",
    "version": 3
   },
   "file_extension": ".py",
   "mimetype": "text/x-python",
   "name": "python",
   "nbconvert_exporter": "python",
   "pygments_lexer": "ipython3",
   "version": "3.10.12"
  }
 },
 "nbformat": 4,
 "nbformat_minor": 2
}
